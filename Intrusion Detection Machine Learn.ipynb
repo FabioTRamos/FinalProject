{
 "cells": [
  {
   "cell_type": "markdown",
   "id": "955b0960",
   "metadata": {},
   "source": [
    "Intrusion Detection Machine Learn\n",
    "\n",
    "\n",
    "Fabio Teixeira Ramos\n",
    "\n",
    "    2020367\n",
    "\n",
    "\n",
    "A Report Submitted in Partial Fulfilment \n",
    "of the requirements for the \n",
    "Degree of \n",
    "BSc in Computing in IT (4th year)\n",
    "\n",
    "\n",
    "\n",
    " \n",
    "\n",
    "May 2024\n",
    "\n",
    "\n",
    "\n",
    "Supervisor: Muhammad Iqbal\n"
   ]
  },
  {
   "cell_type": "code",
   "execution_count": 2,
   "id": "3978b71d",
   "metadata": {},
   "outputs": [],
   "source": [
    "#Import libraries.\n",
    "import numpy as np \n",
    "import pandas as pd\n",
    "import warnings\n",
    "warnings.filterwarnings(\"ignore\")"
   ]
  },
  {
   "cell_type": "code",
   "execution_count": 3,
   "id": "c345f7f7",
   "metadata": {},
   "outputs": [
    {
     "name": "stdout",
     "output_type": "stream",
     "text": [
      "Intrusion detection1\\Day-02-14-2018.csv\n",
      "Intrusion detection1\\Day-02-15-2018.csv\n",
      "Intrusion detection1\\Day-02-16-2018.csv\n",
      "Intrusion detection1\\Day-02-20-2018.csv\n",
      "Intrusion detection1\\Day-02-21-2018.csv\n",
      "Intrusion detection1\\Day-02-22-2018.csv\n",
      "Intrusion detection1\\Day-02-23-2018.csv\n",
      "Intrusion detection1\\Day-02-28-2018.csv\n",
      "Intrusion detection1\\Day-03-01-2018.csv\n",
      "Intrusion detection1\\Day-03-02-2018.csv\n"
     ]
    }
   ],
   "source": [
    "#Run the csv files.  \n",
    "import os\n",
    "for dirname, _, filenames in os.walk('Intrusion detection1'):\n",
    "    for filename in filenames:\n",
    "        print(os.path.join(dirname, filename))\n",
    "    "
   ]
  },
  {
   "cell_type": "code",
   "execution_count": 4,
   "id": "3acd8335",
   "metadata": {
    "scrolled": false
   },
   "outputs": [],
   "source": [
    "df1 = pd.read_csv(\"Intrusion detection1\\Day-02-14-2018.csv\")\n",
    "df2 = pd.read_csv(\"Intrusion detection1\\Day-02-15-2018.csv\")\n",
    "df3 = pd.read_csv(\"Intrusion detection1\\Day-02-16-2018.csv\")\n",
    "df4 = pd.read_csv(\"Intrusion detection1\\Day-02-20-2018.csv\")\n",
    "df5 = pd.read_csv(\"Intrusion detection1\\Day-02-21-2018.csv\")\n",
    "df6 = pd.read_csv(\"Intrusion detection1\\Day-02-22-2018.csv\")\n",
    "df7 = pd.read_csv(\"Intrusion detection1\\Day-02-23-2018.csv\")\n",
    "df8 = pd.read_csv(\"Intrusion detection1\\Day-02-28-2018.csv\")\n",
    "df9 = pd.read_csv(\"Intrusion detection1\\Day-03-01-2018.csv\")\n",
    "df10 = pd.read_csv(\"Intrusion detection1\\Day-03-02-2018.csv\")\n",
    "\n",
    "\n"
   ]
  },
  {
   "cell_type": "code",
   "execution_count": 5,
   "id": "1b5fbefc",
   "metadata": {},
   "outputs": [],
   "source": []
  },
  {
   "cell_type": "code",
   "execution_count": 7,
   "id": "1c9cbe50",
   "metadata": {},
   "outputs": [],
   "source": []
  },
  {
   "cell_type": "code",
   "execution_count": null,
   "id": "09d55bb2",
   "metadata": {},
   "outputs": [],
   "source": []
  },
  {
   "cell_type": "code",
   "execution_count": null,
   "id": "52148161",
   "metadata": {},
   "outputs": [],
   "source": []
  },
  {
   "cell_type": "code",
   "execution_count": null,
   "id": "b175f17b",
   "metadata": {},
   "outputs": [],
   "source": []
  },
  {
   "cell_type": "code",
   "execution_count": null,
   "id": "500072cc",
   "metadata": {},
   "outputs": [],
   "source": []
  },
  {
   "cell_type": "code",
   "execution_count": null,
   "id": "ea1bff12",
   "metadata": {},
   "outputs": [],
   "source": []
  },
  {
   "cell_type": "code",
   "execution_count": null,
   "id": "f0c8967f",
   "metadata": {},
   "outputs": [],
   "source": []
  },
  {
   "cell_type": "code",
   "execution_count": null,
   "id": "bd3ff051",
   "metadata": {},
   "outputs": [],
   "source": []
  },
  {
   "cell_type": "code",
   "execution_count": null,
   "id": "b668cf5d",
   "metadata": {},
   "outputs": [],
   "source": []
  }
 ],
 "metadata": {
  "kernelspec": {
   "display_name": "Python 3 (ipykernel)",
   "language": "python",
   "name": "python3"
  },
  "language_info": {
   "codemirror_mode": {
    "name": "ipython",
    "version": 3
   },
   "file_extension": ".py",
   "mimetype": "text/x-python",
   "name": "python",
   "nbconvert_exporter": "python",
   "pygments_lexer": "ipython3",
   "version": "3.9.7"
  }
 },
 "nbformat": 4,
 "nbformat_minor": 5
}
